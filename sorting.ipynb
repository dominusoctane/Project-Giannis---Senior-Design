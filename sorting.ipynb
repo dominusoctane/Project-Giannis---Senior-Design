{
 "cells": [
  {
   "cell_type": "code",
   "execution_count": null,
   "metadata": {
    "colab": {
     "base_uri": "https://localhost:8080/"
    },
    "id": "2JzGYdSFQKNB",
    "outputId": "ae3ccb37-b8b2-4197-8a2a-8cb5be1022ce"
   },
   "outputs": [
    {
     "name": "stdout",
     "output_type": "stream",
     "text": [
      "Mounted at /content/drive\n"
     ]
    }
   ],
   "source": [
    "#check out merlion\n",
    "from google.colab import drive\n",
    "import os\n",
    "import sys\n",
    "import numpy as np\n",
    "import pandas as pd\n",
    "import matplotlib.pyplot as plt\n",
    "np.random.seed(1234)  # for reproducibility\n",
    "\n",
    "#this syncs your drive up as the file system, you will have to\n",
    "#run this block and then authorize the drive\n",
    "drive.mount('/content/drive', force_remount=True)"
   ]
  },
  {
   "cell_type": "code",
   "execution_count": null,
   "metadata": {
    "id": "AWHMWqcniXs5"
   },
   "outputs": [],
   "source": [
    "from os import listdir\n",
    "from os.path import isfile, join"
   ]
  },
  {
   "cell_type": "code",
   "execution_count": null,
   "metadata": {
    "id": "c0VIqEz4iNzJ"
   },
   "outputs": [],
   "source": [
    "myPath = \"/content/drive/My Drive/Senior Design C41/Data/\"\n",
    "myPath1 = \"/content/drive/My Drive/Senior Design C41/Data2/\"\n",
    "onlyFiles = [f for f in listdir(myPath) if isfile(join(myPath, f)) and f[-3:]=='csv']\n",
    "onlyFiles1 = [f for f in listdir(myPath1) if isfile(join(myPath1, f)) and f[-3:]=='csv']"
   ]
  },
  {
   "cell_type": "code",
   "execution_count": null,
   "metadata": {
    "colab": {
     "base_uri": "https://localhost:8080/"
    },
    "id": "5h2ElPFPA1sg",
    "outputId": "c70be4b9-bca8-46ac-bc16-102972258b84"
   },
   "outputs": [
    {
     "data": {
      "text/plain": [
       "1729"
      ]
     },
     "execution_count": 7,
     "metadata": {},
     "output_type": "execute_result"
    }
   ],
   "source": [
    "len(onlyFiles)"
   ]
  },
  {
   "cell_type": "code",
   "execution_count": null,
   "metadata": {
    "id": "ZDoyDYH7ltbL"
   },
   "outputs": [],
   "source": [
    "curr_data = curr_data[curr_data.columns.drop(list(curr_data.filter(regex='confidence')))]"
   ]
  },
  {
   "cell_type": "code",
   "execution_count": null,
   "metadata": {
    "id": "5nV2pfSxnpUL"
   },
   "outputs": [],
   "source": [
    "full_data=pd.DataFrame()\n",
    "shot = 0\n",
    "for i in range(len(onlyFiles)):\n",
    "    curr_data = pd.read_csv(myPath + onlyFiles[i])\n",
    "    curr_str = onlyFiles[i].split('-')\n",
    "    curr_data['person'] = [curr_str[2][:-4] for x in range(len(curr_data))]\n",
    "    curr_data['class'] = [int(curr_str[1]) for x in range(len(curr_data))]\n",
    "    shot = shot + 1\n",
    "    curr_data['shot'] = [shot for x in range(len(curr_data))]\n",
    "    full_data = pd.concat([curr_data, full_data])"
   ]
  },
  {
   "cell_type": "code",
   "execution_count": null,
   "metadata": {
    "id": "PBh7eZCSBsCp"
   },
   "outputs": [],
   "source": [
    "for i in range(len(onlyFiles1)):\n",
    "    curr_data = pd.read_csv(myPath1 + onlyFiles1[i])\n",
    "    curr_str = onlyFiles1[i].split('-')\n",
    "    curr_data['person'] = [curr_str[2][:-4] for x in range(len(curr_data))]\n",
    "    curr_data['class'] = [int(curr_str[1]) for x in range(len(curr_data))]\n",
    "    shot = shot + 1\n",
    "    curr_data['shot'] = [shot for x in range(len(curr_data))]\n",
    "    full_data = pd.concat([curr_data, full_data])"
   ]
  },
  {
   "cell_type": "code",
   "execution_count": null,
   "metadata": {
    "id": "rRuZnC2ieLxi"
   },
   "outputs": [],
   "source": [
    "full_data = full_data[full_data.columns.drop(list(full_data.filter(regex='confidence')))]"
   ]
  },
  {
   "cell_type": "code",
   "execution_count": null,
   "metadata": {
    "id": "hcjOPhpLqr_t"
   },
   "outputs": [],
   "source": [
    "full_data.to_csv(\"/content/drive/My Drive/full_data1.csv\")"
   ]
  },
  {
   "cell_type": "code",
   "execution_count": null,
   "metadata": {
    "id": "qWw4wDEatqGA"
   },
   "outputs": [],
   "source": [
    "full_data = pd.read_csv(\"/content/drive/My Drive/full_data.csv\")"
   ]
  },
  {
   "cell_type": "markdown",
   "metadata": {
    "id": "xek8rUCXOnDO"
   },
   "source": [
    "STOP HERE for now"
   ]
  },
  {
   "cell_type": "code",
   "execution_count": null,
   "metadata": {
    "id": "8lY16f5_eQ6X"
   },
   "outputs": [],
   "source": [
    "full_data = full_data.drop('Unnamed: 0',axis=1)"
   ]
  },
  {
   "cell_type": "code",
   "execution_count": null,
   "metadata": {
    "id": "VNwSy4NVcgvE"
   },
   "outputs": [],
   "source": [
    "compare_df=full_data[['person','class','shot']].drop_duplicates()\n",
    "justin_compare_df=compare_df[compare_df.person=='Justin']\n",
    "brendan_compare_df=compare_df[compare_df.person=='Brendan']\n",
    "carl_compare_df=compare_df[compare_df.person=='Carl']"
   ]
  },
  {
   "cell_type": "code",
   "execution_count": null,
   "metadata": {
    "id": "voSmQr9TejE5"
   },
   "outputs": [],
   "source": [
    "justin_1=justin_compare_df[justin_compare_df['class']==1]['class'].values\n",
    "justin_0=justin_compare_df[justin_compare_df['class']==0]['class'].values\n",
    "brendan_1=brendan_compare_df[brendan_compare_df['class']==1]['class'].values\n",
    "brendan_0=brendan_compare_df[brendan_compare_df['class']==0]['class'].values\n",
    "carl_1=carl_compare_df[carl_compare_df['class']==1]['class'].values\n",
    "carl_0=carl_compare_df[carl_compare_df['class']==0]['class'].values"
   ]
  },
  {
   "cell_type": "code",
   "execution_count": null,
   "metadata": {
    "colab": {
     "base_uri": "https://localhost:8080/",
     "height": 319
    },
    "id": "8jFu_LKqgSXB",
    "outputId": "4d28e7d1-0b67-48ca-9b00-d23e7cd5f616"
   },
   "outputs": [
    {
     "name": "stderr",
     "output_type": "stream",
     "text": [
      "/usr/local/lib/python3.7/dist-packages/seaborn/_decorators.py:43: FutureWarning: Pass the following variables as keyword args: x, y. From version 0.12, the only valid positional argument will be `data`, and passing other arguments without an explicit keyword will result in an error or misinterpretation.\n",
      "  FutureWarning\n"
     ]
    },
    {
     "data": {
      "image/png": "[encoded data removed]",
      "text/plain": [
       "<Figure size 432x288 with 1 Axes>"
      ]
     },
     "metadata": {
      "needs_background": "light"
     },
     "output_type": "display_data"
    }
   ],
   "source": [
    "import seaborn as sns\n",
    "\n",
    "x = ['justin_1', 'justin_0', 'brendan_1', 'brendan_0', 'carl_1', 'carl_0']\n",
    "y = [len(justin_1), len(justin_0), len(brendan_1), len(brendan_0), len(carl_1), len(carl_0)]\n",
    "\n",
    "sns.barplot(y, x)\n",
    "plt.show()"
   ]
  },
  {
   "cell_type": "code",
   "execution_count": null,
   "metadata": {
    "colab": {
     "base_uri": "https://localhost:8080/"
    },
    "id": "-XXjC2l9h6MY",
    "outputId": "376e7ec4-eed9-464d-c28d-a797b09b19ba"
   },
   "outputs": [
    {
     "data": {
      "text/plain": [
       "0.32"
      ]
     },
     "execution_count": 10,
     "metadata": {},
     "output_type": "execute_result"
    }
   ],
   "source": [
    "len(justin_1)/(len(justin_1)+len(justin_0))"
   ]
  },
  {
   "cell_type": "code",
   "execution_count": null,
   "metadata": {
    "colab": {
     "base_uri": "https://localhost:8080/"
    },
    "id": "Q3YbccJMiF2b",
    "outputId": "ff4ca66d-8995-49d5-bb25-517113aa9f3f"
   },
   "outputs": [
    {
     "data": {
      "text/plain": [
       "0.33"
      ]
     },
     "execution_count": 11,
     "metadata": {},
     "output_type": "execute_result"
    }
   ],
   "source": [
    "len(brendan_1)/(len(brendan_1)+len(brendan_0))"
   ]
  },
  {
   "cell_type": "code",
   "execution_count": null,
   "metadata": {
    "colab": {
     "base_uri": "https://localhost:8080/"
    },
    "id": "FhWM_UVEiMVx",
    "outputId": "40772714-3d0a-4559-d701-dfb7f5a68a5b"
   },
   "outputs": [
    {
     "data": {
      "text/plain": [
       "0.373134328358209"
      ]
     },
     "execution_count": 12,
     "metadata": {},
     "output_type": "execute_result"
    }
   ],
   "source": [
    "len(carl_1)/(len(carl_1)+len(carl_0))"
   ]
  }
 ],
 "metadata": {
  "accelerator": "TPU",
  "colab": {
   "machine_shape": "hm",
   "provenance": []
  },
  "kernelspec": {
   "display_name": "Python 3 (ipykernel)",
   "language": "python",
   "name": "python3"
  },
  "language_info": {
   "codemirror_mode": {
    "name": "ipython",
    "version": 3
   },
   "file_extension": ".py",
   "mimetype": "text/x-python",
   "name": "python",
   "nbconvert_exporter": "python",
   "pygments_lexer": "ipython3",
   "version": "3.8.16"
  }
 },
 "nbformat": 4,
 "nbformat_minor": 4
}

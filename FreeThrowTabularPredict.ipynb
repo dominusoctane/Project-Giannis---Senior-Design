{
  "cells": [
    {
      "cell_type": "markdown",
      "metadata": {
        "id": "n6jUExBnqsBz"
      },
      "source": [
        "## 1. Load Libraries"
      ]
    },
    {
      "cell_type": "code",
      "execution_count": null,
      "metadata": {
        "colab": {
          "base_uri": "https://localhost:8080/"
        },
        "id": "IEfOpcTIjlaW",
        "outputId": "a39bf426-0a64-407e-9008-b1bb7586d02e"
      },
      "outputs": [
        {
          "name": "stdout",
          "output_type": "stream",
          "text": [
            "Mounted at /content/drive\n"
          ]
        }
      ],
      "source": [
        "# Uncomment if the libraries are not already installed to machine\n",
        "# !pip install --upgrade mxnet\n",
        "# !pip install autogluon\n",
        "import os\n",
        "import pandas as pd\n",
        "import sys\n",
        "import numpy as np\n",
        "from google.colab import drive\n",
        "from scipy.spatial.transform import Rotation as R\n",
        "import autogluon as ag\n",
        "from autogluon.tabular import TabularPredictor\n",
        "from sklearn.metrics import classification_report\n",
        "\n",
        "# Mount drive in order to retrieve data\n",
        "drive.mount('/content/drive', force_remount=True)"
      ]
    },
    {
      "cell_type": "markdown",
      "metadata": {
        "id": "KpMTpzjSrBk2"
      },
      "source": [
        "## 2. Load Data\n",
        "NOTE: full_data.csv is a combined csv of all of our shot data."
      ]
    },
    {
      "cell_type": "code",
      "execution_count": null,
      "metadata": {
        "id": "pI676tUTj927"
      },
      "outputs": [],
      "source": [
        "# Load data from combined .csv file of all Brekel Body Data for local positions and rotations\n",
        "full_data = pd.read_csv(\"/content/drive/My Drive/Senior Design C41/full_data.csv\")\n",
        "full_data = full_data.drop('Unnamed: 0',axis=1)\n",
        "\n",
        "# Load data from combined .csv file of all Brekel Body Data for absolute positions\n",
        "abs_full_data = pd.read_csv(\"/content/drive/My Drive/Senior Design C41/absolute_full_data.csv\")\n",
        "abs_full_data = abs_full_data.drop('Unnamed: 0',axis=1)\n",
        "\n",
        "# Combine the two csvs\n",
        "full_data = pd.concat([abs_full_data,full_data[full_data.columns[[~full_data.columns.isin(['person','class','shot'])]]]],axis=1)\n",
        "\n",
        "# Drop NaN values\n",
        "full_data = full_data.dropna().reset_index().drop(['index'],axis=1)\n",
        "# Uncomment below to see dataframe\n",
        "# full_data"
      ]
    },
    {
      "cell_type": "code",
      "execution_count": null,
      "metadata": {
        "id": "B8QPTqe2m-qo"
      },
      "outputs": [],
      "source": [
        "# compare_df is a dataframe trying to get the indexes of each shot's data\n",
        "# along with the person, class, and shot of that data.\n",
        "compare_df = full_data[['person','class','shot']].drop_duplicates() # Must drop duplicates so that compare_df doesn't have 180 instances of every shot\n",
        "\n",
        "# Separate dataframe into 3 different dataframes per person\n",
        "justin_compare_df = compare_df[compare_df.person=='Justin']\n",
        "brendan_compare_df = compare_df[compare_df.person=='Brendan']\n",
        "carl_compare_df = compare_df[compare_df.person=='Carl']\n",
        "\n",
        "# Separate each person's dataframe into successful and failed shots\n",
        "justin_1=justin_compare_df[justin_compare_df['class']==1]['shot'].values\n",
        "justin_0=justin_compare_df[justin_compare_df['class']==0]['shot'].values\n",
        "brendan_1=brendan_compare_df[brendan_compare_df['class']==1]['shot'].values\n",
        "brendan_0=brendan_compare_df[brendan_compare_df['class']==0]['shot'].values\n",
        "carl_1=carl_compare_df[carl_compare_df['class']==1]['shot'].values\n",
        "carl_0=carl_compare_df[carl_compare_df['class']==0]['shot'].values\n",
        "\n",
        "# Shuffle each person's data\n",
        "np.random.shuffle(justin_1)\n",
        "np.random.shuffle(justin_0)\n",
        "np.random.shuffle(brendan_1)\n",
        "np.random.shuffle(brendan_0)\n",
        "np.random.shuffle(carl_1)\n",
        "np.random.shuffle(carl_0)"
      ]
    },
    {
      "cell_type": "markdown",
      "metadata": {
        "id": "iE1cxvScxFfh"
      },
      "source": [
        "## 3. Data Preprocessing\n",
        "* The data collected from Brekel is not uniform. Some data is 180 rows, others are 178 rows. Thus, we have to establish uniformity among the row length of all data.\n",
        "* Also, we want to reshape the data such that each row of the dataframe is shot indexed rather than timestamp indexed. In other words, each row is shot 0 rather than each row being timestamp 0 of shot 0."
      ]
    },
    {
      "cell_type": "code",
      "source": [
        "# Get the sizes of all the csv files\n",
        "uniques = np.unique(abs_full_data['shot'])\n",
        "for x in uniques:\n",
        "    csv_lengths.append(len(abs_full_data[abs_full_data['shot']==x]))\n",
        "\n",
        "temp_arr1 = np.array(csv_lengths)\n",
        "temp_arr1 = temp_arr1[temp_arr1>170]\n",
        "temp_arr1 = temp_arr1[temp_arr1<200]"
      ],
      "metadata": {
        "id": "2fukdRXpYmak"
      },
      "execution_count": null,
      "outputs": []
    },
    {
      "cell_type": "code",
      "source": [
        "# Visualize the frequency of csv lengths to determine the lowest possible threshold\n",
        "plt.hist(temp_arr1)\n",
        "plt.title('Histogram of csv lengths')\n",
        "plt.xlabel('csv lengths')\n",
        "plt.ylabel('Frequency')"
      ],
      "metadata": {
        "colab": {
          "base_uri": "https://localhost:8080/",
          "height": 313
        },
        "id": "c7zl1vLhID5o",
        "outputId": "e12f4f7f-acc9-4214-fd7e-f3c186b75c23"
      },
      "execution_count": null,
      "outputs": [
        {
          "output_type": "execute_result",
          "data": {
            "text/plain": [
              "Text(0, 0.5, 'Frequency')"
            ]
          },
          "metadata": {},
          "execution_count": 93
        },
        {
          "output_type": "display_data",
          "data": {
            "text/plain": [
              "<Figure size 432x288 with 1 Axes>"
            ],
            "image/png": "[encoded data removed]"
          },
          "metadata": {
            "needs_background": "light"
          }
        }
      ]
    },
    {
      "cell_type": "code",
      "execution_count": null,
      "metadata": {
        "id": "acdcfuc7fQYT"
      },
      "outputs": [],
      "source": [
        "\"\"\"\n",
        "IDENTIFY WHICH SHOTS WE NEED TO NORMALIZE ROW LENGTH FOR\n",
        "\"\"\"\n",
        "# Create a dictionary with every shot in the data as the indexes\n",
        "shot_dict={}\n",
        "\n",
        "# Loop to get the length of every shot\n",
        "for i in range(1,len(np.unique(full_data['shot']))+1):\n",
        "    length=len(full_data[full_data['shot']==i])\n",
        "    shot_dict[i] = length\n",
        "\n",
        "shot_dict_thres = dict((k, v) for k, v in shot_dict.items() if v >= 170) # Place shot_dict list in dictionary form\n",
        "shot_fix = [k for k, v in shot_dict.items() if v >= 176] # Looking for all shots >= 176 rows"
      ]
    },
    {
      "cell_type": "code",
      "execution_count": null,
      "metadata": {
        "id": "N9XVy587ntME"
      },
      "outputs": [],
      "source": [
        "\"\"\"\n",
        "GO THROUGH ALL THE DATA.\n",
        "FIRST, NORMALIZE THE ROW LENGTH.\n",
        "SECOND, RESHAPE DATA SUCH THAT EACH ROW REPRESENTS A SHOT AND THERE EXIST COLUMNS\n",
        "TO REPRESENT A FEATURE'S VALUE AT A PARTICULAR FRAME\n",
        "Expected Runtime: About 15 Minutes\n",
        "\"\"\"\n",
        "# flatten_df is the converted full_data dataframe in which each column's row data is a separate column.\n",
        "#   i.e: Waist_local_position_X[48] is now column 'Waist_local_position_X_48'\n",
        "flatten_df = pd.DataFrame()\n",
        "for i in range(0,len(shot_fix)):\n",
        "  # Dataframe of the current shot iteration\n",
        "  focus_df = full_data[full_data['shot']==shot_fix[i]]\n",
        "\n",
        "  # Normalize row size to 176 rows\n",
        "  if len(focus_df)>176:\n",
        "      focus_df = focus_df.iloc[:176,:]\n",
        "\n",
        "  # feature_names is used to create column name in flattened dataframe\n",
        "  feature_names = np.array(focus_df.drop(columns=['timestamp','person','class','shot']).columns)\n",
        "\n",
        "  # In a loop, get the row data of a feature and create a column name of that feature\n",
        "  flatten_feature = np.array([])\n",
        "  for j in range(len(focus_df)):\n",
        "      flatten_feature = np.append(flatten_feature, np.array([feature_names + '_' + str(j)]))\n",
        "\n",
        "  # Place data into a combined, flattened dataframe\n",
        "  one_flatten_df = pd.DataFrame([focus_df[feature_names].values.flatten()], columns=flatten_feature)\n",
        "  flatten_df = pd.concat([flatten_df,one_flatten_df])"
      ]
    },
    {
      "cell_type": "code",
      "execution_count": null,
      "metadata": {
        "colab": {
          "base_uri": "https://localhost:8080/",
          "height": 505
        },
        "id": "mt1GEEjVCtDU",
        "outputId": "9e88a926-92ec-4851-aa6c-65bdbc5cd8f4"
      },
      "outputs": [
        {
          "data": {
            "text/html": [
              "\n",
              "  <div id=\"df-b5ed9e10-175f-4e7f-89f5-1441952bf2e7\">\n",
              "    <div class=\"colab-df-container\">\n",
              "      <div>\n",
              "<style scoped>\n",
              "    .dataframe tbody tr th:only-of-type {\n",
              "        vertical-align: middle;\n",
              "    }\n",
              "\n",
              "    .dataframe tbody tr th {\n",
              "        vertical-align: top;\n",
              "    }\n",
              "\n",
              "    .dataframe thead th {\n",
              "        text-align: right;\n",
              "    }\n",
              "</style>\n",
              "<table border=\"1\" class=\"dataframe\">\n",
              "  <thead>\n",
              "    <tr style=\"text-align: right;\">\n",
              "      <th></th>\n",
              "      <th>Waist_local_position_X_0</th>\n",
              "      <th>Waist_local_position_Y_0</th>\n",
              "      <th>Waist_local_position_Z_0</th>\n",
              "      <th>Waist_local_rotation_X_0</th>\n",
              "      <th>Waist_local_rotation_Y_0</th>\n",
              "      <th>Waist_local_rotation_Z_0</th>\n",
              "      <th>Spine_local_position_X_0</th>\n",
              "      <th>Spine_local_position_Y_0</th>\n",
              "      <th>Spine_local_position_Z_0</th>\n",
              "      <th>Spine_local_rotation_X_0</th>\n",
              "      <th>...</th>\n",
              "      <th>Hand R_local_position_Z_175</th>\n",
              "      <th>Hand R_local_rotation_X_175</th>\n",
              "      <th>Hand R_local_rotation_Y_175</th>\n",
              "      <th>Hand R_local_rotation_Z_175</th>\n",
              "      <th>FingerTips R_local_position_X_175</th>\n",
              "      <th>FingerTips R_local_position_Y_175</th>\n",
              "      <th>FingerTips R_local_position_Z_175</th>\n",
              "      <th>FingerTips R_local_rotation_X_175</th>\n",
              "      <th>FingerTips R_local_rotation_Y_175</th>\n",
              "      <th>FingerTips R_local_rotation_Z_175</th>\n",
              "    </tr>\n",
              "  </thead>\n",
              "  <tbody>\n",
              "    <tr>\n",
              "      <th>0</th>\n",
              "      <td>0.762604</td>\n",
              "      <td>1.061696</td>\n",
              "      <td>-0.044270</td>\n",
              "      <td>0.0</td>\n",
              "      <td>0.0</td>\n",
              "      <td>0.0</td>\n",
              "      <td>0.0</td>\n",
              "      <td>0.127115</td>\n",
              "      <td>0.0</td>\n",
              "      <td>0.0</td>\n",
              "      <td>...</td>\n",
              "      <td>-0.0</td>\n",
              "      <td>-25.202230</td>\n",
              "      <td>-37.466045</td>\n",
              "      <td>28.990526</td>\n",
              "      <td>-0.150944</td>\n",
              "      <td>-0.0</td>\n",
              "      <td>0.0</td>\n",
              "      <td>0.0</td>\n",
              "      <td>0.0</td>\n",
              "      <td>0.0</td>\n",
              "    </tr>\n",
              "    <tr>\n",
              "      <th>0</th>\n",
              "      <td>0.666845</td>\n",
              "      <td>1.048362</td>\n",
              "      <td>-0.136568</td>\n",
              "      <td>0.0</td>\n",
              "      <td>0.0</td>\n",
              "      <td>0.0</td>\n",
              "      <td>-0.0</td>\n",
              "      <td>0.127624</td>\n",
              "      <td>-0.0</td>\n",
              "      <td>0.0</td>\n",
              "      <td>...</td>\n",
              "      <td>0.0</td>\n",
              "      <td>336.158844</td>\n",
              "      <td>-10.206134</td>\n",
              "      <td>-337.129639</td>\n",
              "      <td>-0.162753</td>\n",
              "      <td>-0.0</td>\n",
              "      <td>-0.0</td>\n",
              "      <td>0.0</td>\n",
              "      <td>0.0</td>\n",
              "      <td>0.0</td>\n",
              "    </tr>\n",
              "    <tr>\n",
              "      <th>0</th>\n",
              "      <td>0.628887</td>\n",
              "      <td>1.014375</td>\n",
              "      <td>-0.149530</td>\n",
              "      <td>0.0</td>\n",
              "      <td>0.0</td>\n",
              "      <td>0.0</td>\n",
              "      <td>-0.0</td>\n",
              "      <td>0.136075</td>\n",
              "      <td>-0.0</td>\n",
              "      <td>0.0</td>\n",
              "      <td>...</td>\n",
              "      <td>0.0</td>\n",
              "      <td>-375.489990</td>\n",
              "      <td>-1.775908</td>\n",
              "      <td>19.847477</td>\n",
              "      <td>-0.159485</td>\n",
              "      <td>-0.0</td>\n",
              "      <td>0.0</td>\n",
              "      <td>0.0</td>\n",
              "      <td>0.0</td>\n",
              "      <td>0.0</td>\n",
              "    </tr>\n",
              "    <tr>\n",
              "      <th>0</th>\n",
              "      <td>0.684368</td>\n",
              "      <td>1.002358</td>\n",
              "      <td>-0.104537</td>\n",
              "      <td>0.0</td>\n",
              "      <td>0.0</td>\n",
              "      <td>0.0</td>\n",
              "      <td>0.0</td>\n",
              "      <td>0.137680</td>\n",
              "      <td>-0.0</td>\n",
              "      <td>0.0</td>\n",
              "      <td>...</td>\n",
              "      <td>0.0</td>\n",
              "      <td>-29.808489</td>\n",
              "      <td>-5.708731</td>\n",
              "      <td>30.853426</td>\n",
              "      <td>-0.161048</td>\n",
              "      <td>-0.0</td>\n",
              "      <td>-0.0</td>\n",
              "      <td>0.0</td>\n",
              "      <td>0.0</td>\n",
              "      <td>0.0</td>\n",
              "    </tr>\n",
              "    <tr>\n",
              "      <th>0</th>\n",
              "      <td>0.742596</td>\n",
              "      <td>0.977850</td>\n",
              "      <td>-0.047554</td>\n",
              "      <td>0.0</td>\n",
              "      <td>0.0</td>\n",
              "      <td>0.0</td>\n",
              "      <td>0.0</td>\n",
              "      <td>0.152140</td>\n",
              "      <td>-0.0</td>\n",
              "      <td>0.0</td>\n",
              "      <td>...</td>\n",
              "      <td>-0.0</td>\n",
              "      <td>-399.824921</td>\n",
              "      <td>-7.997807</td>\n",
              "      <td>27.813227</td>\n",
              "      <td>-0.169846</td>\n",
              "      <td>0.0</td>\n",
              "      <td>-0.0</td>\n",
              "      <td>0.0</td>\n",
              "      <td>0.0</td>\n",
              "      <td>0.0</td>\n",
              "    </tr>\n",
              "    <tr>\n",
              "      <th>...</th>\n",
              "      <td>...</td>\n",
              "      <td>...</td>\n",
              "      <td>...</td>\n",
              "      <td>...</td>\n",
              "      <td>...</td>\n",
              "      <td>...</td>\n",
              "      <td>...</td>\n",
              "      <td>...</td>\n",
              "      <td>...</td>\n",
              "      <td>...</td>\n",
              "      <td>...</td>\n",
              "      <td>...</td>\n",
              "      <td>...</td>\n",
              "      <td>...</td>\n",
              "      <td>...</td>\n",
              "      <td>...</td>\n",
              "      <td>...</td>\n",
              "      <td>...</td>\n",
              "      <td>...</td>\n",
              "      <td>...</td>\n",
              "      <td>...</td>\n",
              "    </tr>\n",
              "    <tr>\n",
              "      <th>0</th>\n",
              "      <td>0.393836</td>\n",
              "      <td>0.970577</td>\n",
              "      <td>0.487607</td>\n",
              "      <td>0.0</td>\n",
              "      <td>0.0</td>\n",
              "      <td>0.0</td>\n",
              "      <td>0.0</td>\n",
              "      <td>0.132742</td>\n",
              "      <td>-0.0</td>\n",
              "      <td>0.0</td>\n",
              "      <td>...</td>\n",
              "      <td>0.0</td>\n",
              "      <td>-361.197205</td>\n",
              "      <td>12.037156</td>\n",
              "      <td>4.416232</td>\n",
              "      <td>-0.144045</td>\n",
              "      <td>-0.0</td>\n",
              "      <td>-0.0</td>\n",
              "      <td>0.0</td>\n",
              "      <td>0.0</td>\n",
              "      <td>0.0</td>\n",
              "    </tr>\n",
              "    <tr>\n",
              "      <th>0</th>\n",
              "      <td>0.421431</td>\n",
              "      <td>0.981848</td>\n",
              "      <td>0.460335</td>\n",
              "      <td>0.0</td>\n",
              "      <td>0.0</td>\n",
              "      <td>0.0</td>\n",
              "      <td>-0.0</td>\n",
              "      <td>0.132742</td>\n",
              "      <td>-0.0</td>\n",
              "      <td>0.0</td>\n",
              "      <td>...</td>\n",
              "      <td>-0.0</td>\n",
              "      <td>-358.722046</td>\n",
              "      <td>13.442245</td>\n",
              "      <td>1.055166</td>\n",
              "      <td>-0.141246</td>\n",
              "      <td>-0.0</td>\n",
              "      <td>0.0</td>\n",
              "      <td>0.0</td>\n",
              "      <td>0.0</td>\n",
              "      <td>0.0</td>\n",
              "    </tr>\n",
              "    <tr>\n",
              "      <th>0</th>\n",
              "      <td>0.430533</td>\n",
              "      <td>0.986372</td>\n",
              "      <td>0.478094</td>\n",
              "      <td>0.0</td>\n",
              "      <td>0.0</td>\n",
              "      <td>0.0</td>\n",
              "      <td>-0.0</td>\n",
              "      <td>0.131603</td>\n",
              "      <td>0.0</td>\n",
              "      <td>0.0</td>\n",
              "      <td>...</td>\n",
              "      <td>-0.0</td>\n",
              "      <td>1.887533</td>\n",
              "      <td>3.381482</td>\n",
              "      <td>4.638025</td>\n",
              "      <td>-0.156446</td>\n",
              "      <td>-0.0</td>\n",
              "      <td>-0.0</td>\n",
              "      <td>0.0</td>\n",
              "      <td>0.0</td>\n",
              "      <td>0.0</td>\n",
              "    </tr>\n",
              "    <tr>\n",
              "      <th>0</th>\n",
              "      <td>0.398045</td>\n",
              "      <td>0.974103</td>\n",
              "      <td>0.472718</td>\n",
              "      <td>0.0</td>\n",
              "      <td>0.0</td>\n",
              "      <td>0.0</td>\n",
              "      <td>-0.0</td>\n",
              "      <td>0.132742</td>\n",
              "      <td>0.0</td>\n",
              "      <td>0.0</td>\n",
              "      <td>...</td>\n",
              "      <td>-0.0</td>\n",
              "      <td>3.748029</td>\n",
              "      <td>-22.311562</td>\n",
              "      <td>-2.062577</td>\n",
              "      <td>-0.151036</td>\n",
              "      <td>-0.0</td>\n",
              "      <td>0.0</td>\n",
              "      <td>0.0</td>\n",
              "      <td>0.0</td>\n",
              "      <td>0.0</td>\n",
              "    </tr>\n",
              "    <tr>\n",
              "      <th>0</th>\n",
              "      <td>0.417357</td>\n",
              "      <td>0.981550</td>\n",
              "      <td>0.473333</td>\n",
              "      <td>0.0</td>\n",
              "      <td>0.0</td>\n",
              "      <td>0.0</td>\n",
              "      <td>0.0</td>\n",
              "      <td>0.132742</td>\n",
              "      <td>0.0</td>\n",
              "      <td>0.0</td>\n",
              "      <td>...</td>\n",
              "      <td>-0.0</td>\n",
              "      <td>187.252991</td>\n",
              "      <td>-160.544891</td>\n",
              "      <td>-183.171738</td>\n",
              "      <td>-0.150629</td>\n",
              "      <td>-0.0</td>\n",
              "      <td>0.0</td>\n",
              "      <td>0.0</td>\n",
              "      <td>0.0</td>\n",
              "      <td>0.0</td>\n",
              "    </tr>\n",
              "  </tbody>\n",
              "</table>\n",
              "<p>965 rows × 25344 columns</p>\n",
              "</div>\n",
              "      <button class=\"colab-df-convert\" onclick=\"convertToInteractive('df-b5ed9e10-175f-4e7f-89f5-1441952bf2e7')\"\n",
              "              title=\"Convert this dataframe to an interactive table.\"\n",
              "              style=\"display:none;\">\n",
              "        \n",
              "  <svg xmlns=\"http://www.w3.org/2000/svg\" height=\"24px\"viewBox=\"0 0 24 24\"\n",
              "       width=\"24px\">\n",
              "    <path d=\"M0 0h24v24H0V0z\" fill=\"none\"/>\n",
              "    <path d=\"M18.56 5.44l.94 2.06.94-2.06 2.06-.94-2.06-.94-.94-2.06-.94 2.06-2.06.94zm-11 1L8.5 8.5l.94-2.06 2.06-.94-2.06-.94L8.5 2.5l-.94 2.06-2.06.94zm10 10l.94 2.06.94-2.06 2.06-.94-2.06-.94-.94-2.06-.94 2.06-2.06.94z\"/><path d=\"M17.41 7.96l-1.37-1.37c-.4-.4-.92-.59-1.43-.59-.52 0-1.04.2-1.43.59L10.3 9.45l-7.72 7.72c-.78.78-.78 2.05 0 2.83L4 21.41c.39.39.9.59 1.41.59.51 0 1.02-.2 1.41-.59l7.78-7.78 2.81-2.81c.8-.78.8-2.07 0-2.86zM5.41 20L4 18.59l7.72-7.72 1.47 1.35L5.41 20z\"/>\n",
              "  </svg>\n",
              "      </button>\n",
              "      \n",
              "  <style>\n",
              "    .colab-df-container {\n",
              "      display:flex;\n",
              "      flex-wrap:wrap;\n",
              "      gap: 12px;\n",
              "    }\n",
              "\n",
              "    .colab-df-convert {\n",
              "      background-color: #E8F0FE;\n",
              "      border: none;\n",
              "      border-radius: 50%;\n",
              "      cursor: pointer;\n",
              "      display: none;\n",
              "      fill: #1967D2;\n",
              "      height: 32px;\n",
              "      padding: 0 0 0 0;\n",
              "      width: 32px;\n",
              "    }\n",
              "\n",
              "    .colab-df-convert:hover {\n",
              "      background-color: #E2EBFA;\n",
              "      box-shadow: 0px 1px 2px rgba(60, 64, 67, 0.3), 0px 1px 3px 1px rgba(60, 64, 67, 0.15);\n",
              "      fill: #174EA6;\n",
              "    }\n",
              "\n",
              "    [theme=dark] .colab-df-convert {\n",
              "      background-color: #3B4455;\n",
              "      fill: #D2E3FC;\n",
              "    }\n",
              "\n",
              "    [theme=dark] .colab-df-convert:hover {\n",
              "      background-color: #434B5C;\n",
              "      box-shadow: 0px 1px 3px 1px rgba(0, 0, 0, 0.15);\n",
              "      filter: drop-shadow(0px 1px 2px rgba(0, 0, 0, 0.3));\n",
              "      fill: #FFFFFF;\n",
              "    }\n",
              "  </style>\n",
              "\n",
              "      <script>\n",
              "        const buttonEl =\n",
              "          document.querySelector('#df-b5ed9e10-175f-4e7f-89f5-1441952bf2e7 button.colab-df-convert');\n",
              "        buttonEl.style.display =\n",
              "          google.colab.kernel.accessAllowed ? 'block' : 'none';\n",
              "\n",
              "        async function convertToInteractive(key) {\n",
              "          const element = document.querySelector('#df-b5ed9e10-175f-4e7f-89f5-1441952bf2e7');\n",
              "          const dataTable =\n",
              "            await google.colab.kernel.invokeFunction('convertToInteractive',\n",
              "                                                     [key], {});\n",
              "          if (!dataTable) return;\n",
              "\n",
              "          const docLinkHtml = 'Like what you see? Visit the ' +\n",
              "            '<a target=\"_blank\" href=https://colab.research.google.com/notebooks/data_table.ipynb>data table notebook</a>'\n",
              "            + ' to learn more about interactive tables.';\n",
              "          element.innerHTML = '';\n",
              "          dataTable['output_type'] = 'display_data';\n",
              "          await google.colab.output.renderOutput(dataTable, element);\n",
              "          const docLink = document.createElement('div');\n",
              "          docLink.innerHTML = docLinkHtml;\n",
              "          element.appendChild(docLink);\n",
              "        }\n",
              "      </script>\n",
              "    </div>\n",
              "  </div>\n",
              "  "
            ],
            "text/plain": [
              "    Waist_local_position_X_0  Waist_local_position_Y_0  \\\n",
              "0                   0.762604                  1.061696   \n",
              "0                   0.666845                  1.048362   \n",
              "0                   0.628887                  1.014375   \n",
              "0                   0.684368                  1.002358   \n",
              "0                   0.742596                  0.977850   \n",
              "..                       ...                       ...   \n",
              "0                   0.393836                  0.970577   \n",
              "0                   0.421431                  0.981848   \n",
              "0                   0.430533                  0.986372   \n",
              "0                   0.398045                  0.974103   \n",
              "0                   0.417357                  0.981550   \n",
              "\n",
              "    Waist_local_position_Z_0  Waist_local_rotation_X_0  \\\n",
              "0                  -0.044270                       0.0   \n",
              "0                  -0.136568                       0.0   \n",
              "0                  -0.149530                       0.0   \n",
              "0                  -0.104537                       0.0   \n",
              "0                  -0.047554                       0.0   \n",
              "..                       ...                       ...   \n",
              "0                   0.487607                       0.0   \n",
              "0                   0.460335                       0.0   \n",
              "0                   0.478094                       0.0   \n",
              "0                   0.472718                       0.0   \n",
              "0                   0.473333                       0.0   \n",
              "\n",
              "    Waist_local_rotation_Y_0  Waist_local_rotation_Z_0  \\\n",
              "0                        0.0                       0.0   \n",
              "0                        0.0                       0.0   \n",
              "0                        0.0                       0.0   \n",
              "0                        0.0                       0.0   \n",
              "0                        0.0                       0.0   \n",
              "..                       ...                       ...   \n",
              "0                        0.0                       0.0   \n",
              "0                        0.0                       0.0   \n",
              "0                        0.0                       0.0   \n",
              "0                        0.0                       0.0   \n",
              "0                        0.0                       0.0   \n",
              "\n",
              "    Spine_local_position_X_0  Spine_local_position_Y_0  \\\n",
              "0                        0.0                  0.127115   \n",
              "0                       -0.0                  0.127624   \n",
              "0                       -0.0                  0.136075   \n",
              "0                        0.0                  0.137680   \n",
              "0                        0.0                  0.152140   \n",
              "..                       ...                       ...   \n",
              "0                        0.0                  0.132742   \n",
              "0                       -0.0                  0.132742   \n",
              "0                       -0.0                  0.131603   \n",
              "0                       -0.0                  0.132742   \n",
              "0                        0.0                  0.132742   \n",
              "\n",
              "    Spine_local_position_Z_0  Spine_local_rotation_X_0  ...  \\\n",
              "0                        0.0                       0.0  ...   \n",
              "0                       -0.0                       0.0  ...   \n",
              "0                       -0.0                       0.0  ...   \n",
              "0                       -0.0                       0.0  ...   \n",
              "0                       -0.0                       0.0  ...   \n",
              "..                       ...                       ...  ...   \n",
              "0                       -0.0                       0.0  ...   \n",
              "0                       -0.0                       0.0  ...   \n",
              "0                        0.0                       0.0  ...   \n",
              "0                        0.0                       0.0  ...   \n",
              "0                        0.0                       0.0  ...   \n",
              "\n",
              "    Hand R_local_position_Z_175  Hand R_local_rotation_X_175  \\\n",
              "0                          -0.0                   -25.202230   \n",
              "0                           0.0                   336.158844   \n",
              "0                           0.0                  -375.489990   \n",
              "0                           0.0                   -29.808489   \n",
              "0                          -0.0                  -399.824921   \n",
              "..                          ...                          ...   \n",
              "0                           0.0                  -361.197205   \n",
              "0                          -0.0                  -358.722046   \n",
              "0                          -0.0                     1.887533   \n",
              "0                          -0.0                     3.748029   \n",
              "0                          -0.0                   187.252991   \n",
              "\n",
              "    Hand R_local_rotation_Y_175  Hand R_local_rotation_Z_175  \\\n",
              "0                    -37.466045                    28.990526   \n",
              "0                    -10.206134                  -337.129639   \n",
              "0                     -1.775908                    19.847477   \n",
              "0                     -5.708731                    30.853426   \n",
              "0                     -7.997807                    27.813227   \n",
              "..                          ...                          ...   \n",
              "0                     12.037156                     4.416232   \n",
              "0                     13.442245                     1.055166   \n",
              "0                      3.381482                     4.638025   \n",
              "0                    -22.311562                    -2.062577   \n",
              "0                   -160.544891                  -183.171738   \n",
              "\n",
              "    FingerTips R_local_position_X_175  FingerTips R_local_position_Y_175  \\\n",
              "0                           -0.150944                               -0.0   \n",
              "0                           -0.162753                               -0.0   \n",
              "0                           -0.159485                               -0.0   \n",
              "0                           -0.161048                               -0.0   \n",
              "0                           -0.169846                                0.0   \n",
              "..                                ...                                ...   \n",
              "0                           -0.144045                               -0.0   \n",
              "0                           -0.141246                               -0.0   \n",
              "0                           -0.156446                               -0.0   \n",
              "0                           -0.151036                               -0.0   \n",
              "0                           -0.150629                               -0.0   \n",
              "\n",
              "    FingerTips R_local_position_Z_175  FingerTips R_local_rotation_X_175  \\\n",
              "0                                 0.0                                0.0   \n",
              "0                                -0.0                                0.0   \n",
              "0                                 0.0                                0.0   \n",
              "0                                -0.0                                0.0   \n",
              "0                                -0.0                                0.0   \n",
              "..                                ...                                ...   \n",
              "0                                -0.0                                0.0   \n",
              "0                                 0.0                                0.0   \n",
              "0                                -0.0                                0.0   \n",
              "0                                 0.0                                0.0   \n",
              "0                                 0.0                                0.0   \n",
              "\n",
              "    FingerTips R_local_rotation_Y_175  FingerTips R_local_rotation_Z_175  \n",
              "0                                 0.0                                0.0  \n",
              "0                                 0.0                                0.0  \n",
              "0                                 0.0                                0.0  \n",
              "0                                 0.0                                0.0  \n",
              "0                                 0.0                                0.0  \n",
              "..                                ...                                ...  \n",
              "0                                 0.0                                0.0  \n",
              "0                                 0.0                                0.0  \n",
              "0                                 0.0                                0.0  \n",
              "0                                 0.0                                0.0  \n",
              "0                                 0.0                                0.0  \n",
              "\n",
              "[965 rows x 25344 columns]"
            ]
          },
          "execution_count": 6,
          "metadata": {},
          "output_type": "execute_result"
        }
      ],
      "source": [
        "# Uncomment to see flatten_df\n",
        "flatten_df"
      ]
    },
    {
      "cell_type": "code",
      "execution_count": null,
      "metadata": {
        "id": "kdDcH3p2RSNV"
      },
      "outputs": [],
      "source": [
        "\"\"\"\n",
        "REAPPEND SHOT IDENTIFYING FEATURES TO NEW DATAFRAME\n",
        "\"\"\"\n",
        "# Creating a list for every shot identifying feature\n",
        "#   class: successful / failed shot\n",
        "#   shot: Index of the shot\n",
        "#   person: Who shot the free throw\n",
        "class_id_list = []\n",
        "shot_id_list = []\n",
        "person_id_list = []\n",
        "\n",
        "# Loop to get every shot and place features into their respectful list\n",
        "for i in range(0,len(shot_fix)):\n",
        "  focus_df = full_data[full_data['shot']==shot_fix[i]]\n",
        "  class_id_list.append(np.unique(focus_df['class'])[0])\n",
        "  shot_id_list.append(np.unique(focus_df['shot'])[0])\n",
        "  person_id_list.append(np.unique(focus_df['person'])[0])\n",
        "\n",
        "# Reappend the shot identifying features to flattened dataframe (class, person, shot)\n",
        "flatten_df['class']=class_id_list\n",
        "flatten_df['person']=person_id_list\n",
        "flatten_df['shot']=shot_id_list\n",
        "\n",
        "# Fix Dataframe indexes (Prior to this code, dataframe index for all rows is 0)\n",
        "flatten_df=flatten_df.reset_index().drop('index',axis=1)\n",
        "\n",
        "# Save to drive\n",
        "flatten_df.to_csv(\"/content/drive/My Drive/Senior Design C41/flatten_df1.csv\")"
      ]
    },
    {
      "cell_type": "code",
      "source": [
        "# Load from drive if already created flattened csv\n",
        "flatten_df = pd.read_csv(\"/content/drive/My Drive/Senior Design C41/flatten_df1.csv\")\n",
        "flatten_df = flatten_df.drop('Unnamed: 0', axis=1)"
      ],
      "metadata": {
        "id": "g-qQXTIDZcEj"
      },
      "execution_count": null,
      "outputs": []
    },
    {
      "cell_type": "markdown",
      "metadata": {
        "id": "Gq0fXyVQRXmg"
      },
      "source": [
        "## 4. Generate Train/Test Split"
      ]
    },
    {
      "cell_type": "code",
      "execution_count": null,
      "metadata": {
        "id": "2YFqNUQ-nZqC"
      },
      "outputs": [],
      "source": [
        "\"\"\"\n",
        "Function to get the train/test split for a single person\n",
        "  Inputs: Successful and Failed Shot Dataframes\n",
        "  Outputs: Train and Test Split Dataframes\n",
        "\"\"\"\n",
        "def get_subject_splits(fail_label_arr,success_label_arr):\n",
        "  test_size = 0.2 # 80% Train, 20% Test\n",
        "  fail_train_size = int(len(fail_label_arr) * (1 - test_size))\n",
        "  success_train_size = int(len(success_label_arr) * (1 - test_size))\n",
        "\n",
        "  fail_test_size = len(fail_label_arr) - fail_train_size\n",
        "  success_test_size = len(success_label_arr) - success_train_size\n",
        "\n",
        "  train_split = []\n",
        "  test_split = []\n",
        "\n",
        "  for i in range(0,5):\n",
        "    fail_section_start = fail_test_size*i\n",
        "    success_section_start = success_test_size*i\n",
        "    fail_section_end = fail_test_size*(i+1)\n",
        "    success_section_end = success_test_size*(i+1)\n",
        "\n",
        "    fail_test = fail_label_arr[fail_section_start:fail_section_end]\n",
        "    success_test = success_label_arr[success_section_start:success_section_end]\n",
        "    fail_train = np.setxor1d(fail_test, fail_label_arr)\n",
        "    success_train = np.setxor1d(success_test, success_label_arr)\n",
        "\n",
        "    train_split.append(np.concatenate((fail_train, success_train),axis=None))\n",
        "    test_split.append(np.concatenate((fail_test, success_test),axis=None))\n",
        "\n",
        "  return train_split, test_split"
      ]
    },
    {
      "cell_type": "code",
      "execution_count": null,
      "metadata": {
        "id": "N6mlI0EqncWb"
      },
      "outputs": [],
      "source": [
        "\"\"\"\n",
        "Function to combine all person's splits or focus on individual people into a single train/test split\n",
        "Depends on get_subject_splits\n",
        "  Inputs: flatten_df Dataframe and people\n",
        "  Output: Train dataframe, Test dataframe\n",
        "\"\"\"\n",
        "def get_all_splits(df,mode):\n",
        "    justin_train, justin_test = get_subject_splits(justin_0,justin_1)\n",
        "    brendan_train, brendan_test = get_subject_splits(brendan_0,brendan_1)\n",
        "    carl_train, carl_test = get_subject_splits(carl_0,carl_1)\n",
        "\n",
        "    train_split = []\n",
        "    test_split = []\n",
        "    for i in range(0,5):\n",
        "        if mode=='all':\n",
        "            train_indices = np.concatenate((justin_train[i], brendan_train[i], carl_train[i]))\n",
        "            test_indices = np.concatenate((justin_test[i], brendan_test[i], carl_test[i]))\n",
        "            train_split.append(df[df['shot'].isin(train_indices)].drop(['person','shot'],axis=1))\n",
        "            test_split.append(df[df['shot'].isin(test_indices)].drop(['person','shot'],axis=1))\n",
        "        elif mode=='carl':\n",
        "            train_indices = carl_train[i]\n",
        "            test_indices = carl_test[i]\n",
        "            train_split.append(df[df['shot'].isin(train_indices)].drop(['person','shot'],axis=1))\n",
        "            test_split.append(df[df['shot'].isin(test_indices)].drop(['person','shot'],axis=1))\n",
        "        elif mode=='brendan':\n",
        "            train_indices = brendan_train[i]\n",
        "            test_indices = brendan_test[i]\n",
        "            train_split.append(df[df['shot'].isin(train_indices)].drop(['person','shot'],axis=1))\n",
        "            test_split.append(df[df['shot'].isin(test_indices)].drop(['person','shot'],axis=1))\n",
        "        elif mode=='justin':\n",
        "            train_indices = justin_train[i]\n",
        "            test_indices = justin_test[i]\n",
        "            train_split.append(df[df['shot'].isin(train_indices)].drop(['person','shot'],axis=1))\n",
        "            test_split.append(df[df['shot'].isin(test_indices)].drop(['person','shot'],axis=1))\n",
        "    return train_split, test_split"
      ]
    },
    {
      "cell_type": "markdown",
      "source": [
        "# 5. Find K Best Features"
      ],
      "metadata": {
        "id": "hPb0mWEjgpfC"
      }
    },
    {
      "cell_type": "code",
      "source": [
        "from sklearn.feature_selection import SelectKBest\n",
        "from sklearn.feature_selection import chi2, mutual_info_classif"
      ],
      "metadata": {
        "id": "0DpBT6OUatAk"
      },
      "execution_count": null,
      "outputs": []
    },
    {
      "cell_type": "code",
      "execution_count": null,
      "metadata": {
        "id": "-6wYCW7yyaph"
      },
      "outputs": [],
      "source": [
        "X = flatten_df.drop(['class','person','shot'],axis=1)\n",
        "y = flatten_df['class']\n",
        "\n",
        "# Get the 100 best features based on the highest Mutual Information Scores for all features\n",
        "X_new = SelectKBest(mutual_info_classif, k=100).fit(X, y)"
      ]
    },
    {
      "cell_type": "code",
      "source": [
        "import matplotlib.pyplot as plt"
      ],
      "metadata": {
        "id": "mpXpm4ZbbBV3"
      },
      "execution_count": null,
      "outputs": []
    },
    {
      "cell_type": "code",
      "execution_count": null,
      "metadata": {
        "colab": {
          "base_uri": "https://localhost:8080/",
          "height": 313
        },
        "id": "fGZaJ7HUz5cU",
        "outputId": "2c526171-955c-4940-ac6a-2ea13e308cd7"
      },
      "outputs": [
        {
          "output_type": "execute_result",
          "data": {
            "text/plain": [
              "Text(0.5, 1.0, 'Frequency of Mutual Information Scores')"
            ]
          },
          "metadata": {},
          "execution_count": 50
        },
        {
          "output_type": "display_data",
          "data": {
            "text/plain": [
              "<Figure size 432x288 with 1 Axes>"
            ],
            "image/png": "[encoded data removed]"
          },
          "metadata": {
            "needs_background": "light"
          }
        }
      ],
      "source": [
        "# Use a histogram to show the frequency of the Mutual Information Scores\n",
        "temp_arr = X_new.scores_\n",
        "plt.hist(temp_arr[temp_arr>0.035])\n",
        "plt.xlabel('Mutual Information Scores')\n",
        "plt.ylabel('Frequency')\n",
        "plt.title('Frequency of Mutual Information Scores')"
      ]
    },
    {
      "cell_type": "code",
      "source": [
        "# Now select the best 10 features\n",
        "X_new = SelectKBest(mutual_info_classif, k=10).fit(X, y)"
      ],
      "metadata": {
        "id": "ZVXd5xt4iW1Z"
      },
      "execution_count": null,
      "outputs": []
    },
    {
      "cell_type": "code",
      "source": [
        "# Transform the features back into DataFrame format\n",
        "kfeatures=X_new.fit_transform(X, y)\n",
        "alt_df = pd.DataFrame(kfeatures)\n",
        "alt_df['class']=class_id_list\n",
        "alt_df['person']=person_id_list\n",
        "alt_df['shot']=shot_id_list"
      ],
      "metadata": {
        "id": "znB1VGKdiQea"
      },
      "execution_count": null,
      "outputs": []
    },
    {
      "cell_type": "markdown",
      "source": [
        "# 6. Training and Testing CatBoost Models"
      ],
      "metadata": {
        "id": "-NwNSHl8m3z7"
      }
    },
    {
      "cell_type": "code",
      "source": [
        "total_r = 0\n",
        "total_success = 0\n",
        "total_failure = 0\n",
        "results = []\n",
        "\n",
        "# Get the 5 Fold Cross Validation train, test splits for the entire dataset\n",
        "train_splits, test_splits = get_all_splits(alt_df,'all')\n",
        "\n",
        "# Train and test the CatBoost models with 5 different partitions of the dataset\n",
        "for i in range(0,5):\n",
        "    predictor = TabularPredictor(label=label,path=\"/content/drive/My Drive/Senior Design C41/catboost_models/\").fit(train_splits[i], hyperparameters={'CAT':{}},presets='best_quality')\n",
        "    preds = predictor.predict(test_splits[i].drop(columns=[label]))\n",
        "\n",
        "    total_r = total_r + classification_report(preds,test_splits[i][label],output_dict=True)['accuracy']*len(test_splits[i])\n",
        "    temp_df = test_splits[i]\n",
        "\n",
        "    total_success = total_success + classification_report(preds,test_splits[i][label],output_dict=True)['1']['recall']*len(temp_df[temp_df['class']==1])\n",
        "    total_failure = total_failure + classification_report(preds,test_splits[i][label],output_dict=True)['0']['recall']*len(temp_df[temp_df['class']==0])\n",
        "\n",
        "    results.append(classification_report(preds,test_splits[i][label],output_dict=True)['accuracy'])"
      ],
      "metadata": {
        "id": "PnUOocftbqET"
      },
      "execution_count": null,
      "outputs": []
    },
    {
      "cell_type": "code",
      "execution_count": null,
      "metadata": {
        "colab": {
          "base_uri": "https://localhost:8080/"
        },
        "id": "FsEFBSlGTILe",
        "outputId": "4820b0af-1684-47b4-d223-95fad1472f8e"
      },
      "outputs": [
        {
          "output_type": "execute_result",
          "data": {
            "text/plain": [
              "0.6715888954518606"
            ]
          },
          "metadata": {},
          "execution_count": 94
        }
      ],
      "source": [
        "# Accuracy\n",
        "total_r/len(flatten_df)"
      ]
    },
    {
      "cell_type": "code",
      "execution_count": null,
      "metadata": {
        "colab": {
          "base_uri": "https://localhost:8080/"
        },
        "id": "Sj3tbFnW-dwu",
        "outputId": "caf666ae-eb44-4342-b729-bd112923811f"
      },
      "outputs": [
        {
          "output_type": "execute_result",
          "data": {
            "text/plain": [
              "0.6239534599345078"
            ]
          },
          "metadata": {},
          "execution_count": 95
        }
      ],
      "source": [
        "# Success Recall\n",
        "total_success/len(flatten_df[flatten_df['class']==1])"
      ]
    },
    {
      "cell_type": "code",
      "execution_count": null,
      "metadata": {
        "colab": {
          "base_uri": "https://localhost:8080/"
        },
        "id": "8jjhuJZXEEF_",
        "outputId": "afdef5b4-4234-497d-d389-49c878080d14"
      },
      "outputs": [
        {
          "output_type": "execute_result",
          "data": {
            "text/plain": [
              "0.6756180854250953"
            ]
          },
          "metadata": {},
          "execution_count": 96
        }
      ],
      "source": [
        "# Failure Recall\n",
        "total_failure/len(flatten_df[flatten_df['class']==0])"
      ]
    },
    {
      "cell_type": "code",
      "source": [
        "\"\"\"\n",
        "Function for printing out recall rate information\n",
        "  Inputs: classification_reports in dictionary format\n",
        "  Output: Prints out recall rates\n",
        "\"\"\"\n",
        "def print_recall(reports):\n",
        "    total_0 = 0\n",
        "    total_1 = 0\n",
        "    support_0 = 0\n",
        "    support_1 = 0\n",
        "    for i in range(0,5):\n",
        "        total_0 = total_0 + reports[i]['0']['recall']*reports[i]['0']['support']\n",
        "        total_1 = total_1 + reports[i]['1']['recall']*reports[i]['1']['support']\n",
        "        support_0 = support_0 + reports[i]['0']['support']\n",
        "        support_1 = support_1 + reports[i]['1']['support']\n",
        "    print('Success Recall Rate: '+str(total_0/support_0))\n",
        "    print('Failure Recall Rate: '+str(total_1/support_1))"
      ],
      "metadata": {
        "id": "RebbhwH-dy79"
      },
      "execution_count": null,
      "outputs": []
    },
    {
      "cell_type": "code",
      "source": [
        "total_r = 0\n",
        "results = []\n",
        "reports = []\n",
        "\n",
        "# Get the 5 Fold Cross Validation train, test splits for Justin\n",
        "train_splits, test_splits = get_all_splits(alt_df,'justin')\n",
        "\n",
        "for i in range(0,5):\n",
        "    predictor = TabularPredictor(label=label).fit(train_splits[i], hyperparameters={'CAT':{}},presets='best_quality')\n",
        "    preds = predictor.predict(test_splits[i].drop(columns=[label]))\n",
        "\n",
        "    total_r = total_r + classification_report(preds,test_splits[i][label],output_dict=True)['accuracy']*len(test_splits[i])\n",
        "\n",
        "    results.append(classification_report(preds,test_splits[i][label],output_dict=True)['accuracy'])\n",
        "    reports.append(classification_report(preds,test_splits[i][label],output_dict=True))print_recall(reports)"
      ],
      "metadata": {
        "id": "qJbBTFD9c_Em"
      },
      "execution_count": null,
      "outputs": []
    },
    {
      "cell_type": "code",
      "execution_count": null,
      "metadata": {
        "colab": {
          "base_uri": "https://localhost:8080/"
        },
        "id": "NNn3QllDii_G",
        "outputId": "13259c49-cbff-4679-cbfb-05fd8ba1f3c0"
      },
      "outputs": [
        {
          "output_type": "execute_result",
          "data": {
            "text/plain": [
              "0.6807228915662651"
            ]
          },
          "metadata": {},
          "execution_count": 101
        }
      ],
      "source": [
        "# Justin Model Accuracy\n",
        "total_r/(len(train_splits[0])+len(test_splits[0]))"
      ]
    },
    {
      "cell_type": "code",
      "execution_count": null,
      "metadata": {
        "colab": {
          "base_uri": "https://localhost:8080/"
        },
        "id": "YjX_vztU883y",
        "outputId": "8ae6af9c-3dd1-4ede-8fed-8e964b2e35ba"
      },
      "outputs": [
        {
          "output_type": "stream",
          "name": "stdout",
          "text": [
            "Success Recall Rate: 0.6818181818181818\n",
            "Failure Recall Rate: 0.6428571428571429\n"
          ]
        }
      ],
      "source": [
        "# Justin Model Recall Rates\n",
        "print_recall(reports)"
      ]
    },
    {
      "cell_type": "code",
      "source": [
        "total_r = 0\n",
        "results = []\n",
        "reports = []\n",
        "\n",
        "# Get the 5 Fold Cross Validation train, test splits for Brendan\n",
        "train_splits, test_splits = get_all_splits(alt_df,'brendan')\n",
        "\n",
        "for i in range(0,5):\n",
        "    predictor = TabularPredictor(label=label).fit(train_splits[i], hyperparameters={'CAT':{}},presets='best_quality')\n",
        "    preds = predictor.predict(test_splits[i].drop(columns=[label]))\n",
        "\n",
        "    total_r = total_r + classification_report(preds,test_splits[i][label],output_dict=True)['accuracy']*len(test_splits[i])\n",
        "\n",
        "    results.append(classification_report(preds,test_splits[i][label],output_dict=True)['accuracy'])\n",
        "    reports.append(classification_report(preds,test_splits[i][label],output_dict=True))"
      ],
      "metadata": {
        "id": "ywnDtk7GdiDV"
      },
      "execution_count": null,
      "outputs": []
    },
    {
      "cell_type": "code",
      "execution_count": null,
      "metadata": {
        "colab": {
          "base_uri": "https://localhost:8080/"
        },
        "id": "gwYfFdJzxxg7",
        "outputId": "49b4f856-9094-4d79-fdbb-cf04330a8185"
      },
      "outputs": [
        {
          "output_type": "execute_result",
          "data": {
            "text/plain": [
              "0.6943396226415094"
            ]
          },
          "metadata": {},
          "execution_count": 104
        }
      ],
      "source": [
        "# Brendan Model Accuracy\n",
        "total_r/(len(train_splits[0])+len(test_splits[0]))"
      ]
    },
    {
      "cell_type": "code",
      "execution_count": null,
      "metadata": {
        "colab": {
          "base_uri": "https://localhost:8080/"
        },
        "id": "UGHhNi9g-MLC",
        "outputId": "bcabec5e-1e23-4a14-f8f8-ecd7fff9ee5d"
      },
      "outputs": [
        {
          "output_type": "stream",
          "name": "stdout",
          "text": [
            "Success Recall Rate: 0.6994219653179191\n",
            "Failure Recall Rate: 0.45454545454545453\n"
          ]
        }
      ],
      "source": [
        "# Brendan Model Recall Rates\n",
        "print_recall(reports)"
      ]
    },
    {
      "cell_type": "code",
      "source": [
        "total_r = 0\n",
        "results = []\n",
        "reports = []\n",
        "\n",
        "# Get the 5 Fold Cross Validation train, test splits for Carl\n",
        "train_splits, test_splits = get_all_splits(alt_df,'carl')\n",
        "\n",
        "for i in range(0,5):\n",
        "    predictor = TabularPredictor(label=label).fit(train_splits[i], hyperparameters={'CAT':{}},presets='best_quality')\n",
        "    preds = predictor.predict(test_splits[i].drop(columns=[label]))\n",
        "\n",
        "    total_r = total_r + classification_report(preds,test_splits[i][label],output_dict=True)['accuracy']*len(test_splits[i])\n",
        "\n",
        "    results.append(classification_report(preds,test_splits[i][label],output_dict=True)['accuracy'])\n",
        "    reports.append(classification_report(preds,test_splits[i][label],output_dict=True))"
      ],
      "metadata": {
        "id": "MxQ0mDbPdrIJ"
      },
      "execution_count": null,
      "outputs": []
    },
    {
      "cell_type": "code",
      "execution_count": null,
      "metadata": {
        "colab": {
          "base_uri": "https://localhost:8080/"
        },
        "id": "iarlVqZ1vR-j",
        "outputId": "81fce3d8-6784-430d-d965-45be345a55a6"
      },
      "outputs": [
        {
          "output_type": "execute_result",
          "data": {
            "text/plain": [
              "0.6481203007518797"
            ]
          },
          "metadata": {},
          "execution_count": 108
        }
      ],
      "source": [
        "# Carl Model Accuracy\n",
        "total_r/(len(train_splits[0])+len(test_splits[0]))"
      ]
    },
    {
      "cell_type": "code",
      "execution_count": null,
      "metadata": {
        "colab": {
          "base_uri": "https://localhost:8080/"
        },
        "id": "nBJs3aa--nM1",
        "outputId": "31f22467-191a-43bf-ad18-d84417bf41f9"
      },
      "outputs": [
        {
          "output_type": "stream",
          "name": "stdout",
          "text": [
            "Success Recall Rate: 0.6496478873239436\n",
            "Failure Recall Rate: 0.6391752577319587\n"
          ]
        }
      ],
      "source": [
        "# Carl Model Recall Rates\n",
        "print_recall(reports)"
      ]
    },
    {
      "cell_type": "markdown",
      "metadata": {
        "id": "uAZglqre10Bk"
      },
      "source": [
        "## Notes:\n",
        "* Removing fingertips from data is bad as it will reduce the accuracy."
      ]
    }
  ],
  "metadata": {
    "accelerator": "TPU",
    "colab": {
      "machine_shape": "hm",
      "provenance": []
    },
    "kernelspec": {
      "display_name": "Python 3",
      "name": "python3"
    },
    "language_info": {
      "name": "python"
    }
  },
  "nbformat": 4,
  "nbformat_minor": 0
}